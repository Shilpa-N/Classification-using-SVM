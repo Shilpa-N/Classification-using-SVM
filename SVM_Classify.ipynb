{
 "cells": [
  {
   "cell_type": "code",
   "execution_count": 58,
   "metadata": {},
   "outputs": [],
   "source": [
    "import numpy as np\n",
    "import pandas as pa\n",
    "import zipfile \n",
    "from sklearn.model_selection import train_test_split\n",
    "from sklearn.svm import SVC\n",
    "from sklearn.metrics import hamming_loss\n",
    "from sklearn.metrics import confusion_matrix\n",
    "from sklearn import metrics, preprocessing\n",
    "from sklearn.metrics import classification_report\n",
    "import matplotlib.pyplot as plt\n",
    "from sklearn.model_selection import GridSearchCV\n",
    "from sklearn.model_selection import cross_val_score\n",
    "from sklearn.preprocessing import normalize\n",
    "from imblearn.over_sampling import SMOTE\n",
    "from sklearn.svm import LinearSVC\n",
    "from sklearn.preprocessing import Normalizer\n",
    "from sklearn.multiclass import OneVsRestClassifier"
   ]
  },
  {
   "cell_type": "code",
   "execution_count": 75,
   "metadata": {},
   "outputs": [],
   "source": [
    "#Exact Match: Exact Match loss is a very strict parameter which considers the \n",
    "#sample correctly classified only if all the three labels are classified correctly. \n",
    "#Any partial correct answer is considered as wrong classification.\n",
    "\n",
    "#Hamming Loss: Hamming loss is a less strict parameter which takes into account partial correct answers.\n",
    "#Hence, hamming loss usually gives a lower value error value compared to exact match loss as partial correct \n",
    "#answers are taken into account and not completely classified as wrong classification."
   ]
  },
  {
   "cell_type": "code",
   "execution_count": 37,
   "metadata": {},
   "outputs": [
    {
     "name": "stdout",
     "output_type": "stream",
     "text": [
      "[WinError 2] The system cannot find the file specified: 'Downloads'\n",
      "C:\\Users\\Shilpa\\Downloads\n"
     ]
    }
   ],
   "source": [
    "cd Downloads"
   ]
  },
  {
   "cell_type": "code",
   "execution_count": 38,
   "metadata": {},
   "outputs": [],
   "source": [
    "db = zipfile.ZipFile(\"Anuran_Calls(MFCCs).zip\")\n",
    "data = pa.read_csv(db.open(\"Frogs_MFCCs.csv\"))"
   ]
  },
  {
   "cell_type": "code",
   "execution_count": 39,
   "metadata": {},
   "outputs": [],
   "source": [
    "data_train, data_test = train_test_split(data, test_size=0.30, random_state=42, shuffle = True)\n",
    "data_train.reset_index(drop=True,inplace=True)\n",
    "data_test.reset_index(drop = True, inplace=True)"
   ]
  },
  {
   "cell_type": "code",
   "execution_count": 40,
   "metadata": {},
   "outputs": [],
   "source": [
    "X = data.iloc[:, :22]\n",
    "y = data.iloc[:, 22:-1]\n",
    "y_family = data['Family']\n",
    "y_genus = data['Genus']\n",
    "y_species = data['Species']"
   ]
  },
  {
   "cell_type": "code",
   "execution_count": 41,
   "metadata": {},
   "outputs": [
    {
     "data": {
      "text/plain": [
       "((5036, 22), (5036, 3), (2159, 22), (2159, 3))"
      ]
     },
     "execution_count": 41,
     "metadata": {},
     "output_type": "execute_result"
    }
   ],
   "source": [
    "#Splitting the data into test and train data in the ratio of 30:70\n",
    "X_train, X_test, y_train, y_test = train_test_split( X, y, test_size=0.3, random_state=42, shuffle = True)\n",
    "X_train.shape, y_train.shape, X_test.shape, y_test.shape"
   ]
  },
  {
   "cell_type": "code",
   "execution_count": 42,
   "metadata": {},
   "outputs": [],
   "source": [
    "#Normalizing the Training data and Testing data\n",
    "norm_x_train = Normalizer().fit(X_train)\n",
    "norm_x_train = norm_x_train.transform(X_train)\n",
    "norm_x_test = Normalizer().fit(X_test)\n",
    "norm_x_test = norm_x_test.transform(X_test)"
   ]
  },
  {
   "cell_type": "code",
   "execution_count": 44,
   "metadata": {},
   "outputs": [],
   "source": [
    "#Classification using Gaussian SVM for each label\n",
    "def svm_gaussian(norm_x_train, y_train):\n",
    "    params = {'C': [1, 10, 100, 1000], 'gamma': [0.1, 0.01, 1, 2, 3], 'kernel': ['rbf']}\n",
    "    search = GridSearchCV(estimator=SVC(), param_grid=params, cv=10)\n",
    "    search.fit(norm_x_train, y_train)\n",
    "    print(\"Best parameter values:\", search.best_params_)\n",
    "    print(\"CV Score with best parameter values:\", search.best_score_)\n",
    "    return search.best_params_, search.best_score_, search"
   ]
  },
  {
   "cell_type": "code",
   "execution_count": 45,
   "metadata": {},
   "outputs": [
    {
     "name": "stdout",
     "output_type": "stream",
     "text": [
      "Best parameter values: {'C': 10, 'gamma': 3, 'kernel': 'rbf'}\n",
      "CV Score with best parameter values: 0.9926528991262907\n",
      "Best parameter values: {'C': 100, 'gamma': 3, 'kernel': 'rbf'}\n",
      "CV Score with best parameter values: 0.9914614773629865\n",
      "Best parameter values: {'C': 10, 'gamma': 3, 'kernel': 'rbf'}\n",
      "CV Score with best parameter values: 0.9912629070691025\n"
     ]
    }
   ],
   "source": [
    "#Best parameter values for Family, Genus, Species\n",
    "family_param, family_score, family_model = svm_gaussian(norm_x_train, y_train['Family'])\n",
    "genus_param, genus_score, genus_model = svm_gaussian(norm_x_train, y_train['Genus'])\n",
    "species_param, species_score, species_model = svm_gaussian(norm_x_train, y_train['Species'])"
   ]
  },
  {
   "cell_type": "code",
   "execution_count": 46,
   "metadata": {},
   "outputs": [],
   "source": [
    "#Classification using best parameters obtained from train data\n",
    "def svm_gaussian_test(norm_x_train, y_train, C_, gamma_, norm_x_test):\n",
    "    svm = SVC(kernel=\"rbf\", C=C_, gamma=gamma_)\n",
    "    svm.fit(norm_x_train, y_train)   \n",
    "    y_predict = svm.predict(norm_x_test)\n",
    "    return y_predict"
   ]
  },
  {
   "cell_type": "code",
   "execution_count": 47,
   "metadata": {},
   "outputs": [],
   "source": [
    "# Family\n",
    "y_pred_fam = svm_gaussian_test(norm_x_train, y_train['Family'], family_param['C'], family_param['gamma'], norm_x_test)\n",
    "y_pred_fam = pa.DataFrame(y_pred_fam)\n",
    "# Genus\n",
    "y_pred_gen = svm_gaussian_test(norm_x_train, y_train['Genus'], genus_param['C'], genus_param['gamma'], norm_x_test)\n",
    "y_pred_gen = pa.DataFrame(y_pred_gen)\n",
    "# Species\n",
    "y_pred_spe = svm_gaussian_test(norm_x_train, y_train['Species'], species_param['C'], species_param['gamma'], norm_x_test)\n",
    "y_pred_spe = pa.DataFrame(y_pred_spe)\n",
    "# combine\n",
    "y_predict = pa.concat([y_pred_fam, y_pred_gen, y_pred_spe], axis=1, sort=False)"
   ]
  },
  {
   "cell_type": "code",
   "execution_count": 48,
   "metadata": {},
   "outputs": [],
   "source": [
    "#Function for calculating Hamming Loss\n",
    "def hammingLoss(y_predict, y_test):\n",
    "    loss_list = list()\n",
    "    for i in range(len(y_test)):\n",
    "        loss_list.append(hamming_loss(y_predict.iloc[i,:], y_test.iloc[i,:]))\n",
    "    return sum(loss_list) / len(loss_list)"
   ]
  },
  {
   "cell_type": "code",
   "execution_count": 49,
   "metadata": {},
   "outputs": [],
   "source": [
    "#Function for calculating Exact Match\n",
    "def exactMatch(y_predict, y_test):\n",
    "    loss_list = list()\n",
    "    for i in range(len(y_test)):\n",
    "        if set(y_predict.values[i,:]) == set(y_test.iloc[i,:]):\n",
    "            loss_list.append(1)\n",
    "        else:\n",
    "            loss_list.append(0)\n",
    "    return sum(loss_list) / len(loss_list)"
   ]
  },
  {
   "cell_type": "code",
   "execution_count": 50,
   "metadata": {},
   "outputs": [
    {
     "name": "stdout",
     "output_type": "stream",
     "text": [
      "Hamming loss for Gaussian Kernel:  0.007565230816736144\n",
      "Exact Match Score for Gaussian Kernel:  0.9874942102825383\n"
     ]
    }
   ],
   "source": [
    "#Hamming loss and Exact math for the Gaussian kernel\n",
    "hammingloss_gauss = hammingLoss(y_predict, y_test)\n",
    "print('Hamming loss for Gaussian Kernel: ', hammingloss_gauss)       \n",
    "exactscore_gauss = exactMatch(y_predict, y_test)\n",
    "print('Exact Match Score for Gaussian Kernel: ', exactscore_gauss)"
   ]
  },
  {
   "cell_type": "code",
   "execution_count": 51,
   "metadata": {},
   "outputs": [
    {
     "data": {
      "text/plain": [
       "0.9529444637535137"
      ]
     },
     "execution_count": 51,
     "metadata": {},
     "output_type": "execute_result"
    }
   ],
   "source": [
    "#Cross validation of linear SVM for Family\n",
    "clf = svm.SVC(kernel='linear', C=10)\n",
    "scores = cross_val_score(clf, norm_x_train, y_train['Family'], cv=10)\n",
    "scores.mean()"
   ]
  },
  {
   "cell_type": "code",
   "execution_count": 52,
   "metadata": {},
   "outputs": [
    {
     "data": {
      "text/plain": [
       "0.972600167232301"
      ]
     },
     "execution_count": 52,
     "metadata": {},
     "output_type": "execute_result"
    }
   ],
   "source": [
    "#Cross validation of linear SVM for Genus\n",
    "clf = svm.SVC(kernel='linear', C=10)\n",
    "scores = cross_val_score(clf, norm_x_train, y_train['Genus'], cv=10)\n",
    "scores.mean()"
   ]
  },
  {
   "cell_type": "code",
   "execution_count": 53,
   "metadata": {},
   "outputs": [
    {
     "data": {
      "text/plain": [
       "0.9789516254497059"
      ]
     },
     "execution_count": 53,
     "metadata": {},
     "output_type": "execute_result"
    }
   ],
   "source": [
    "#Cross validation of linear SVM for Species\n",
    "clf = svm.SVC(kernel='linear', C=10)\n",
    "scores = cross_val_score(clf, norm_x_train, y_train['Species'], cv=10)\n",
    "scores.mean()"
   ]
  },
  {
   "cell_type": "code",
   "execution_count": 59,
   "metadata": {},
   "outputs": [],
   "source": [
    "def OneVsRest_linear(trainDataLinearOvR, trainLabelLinearOvR,classEstimated):\n",
    "    params = {'estimator__C':[1, 10, 100, 1000]}\n",
    "    print(classEstimated)\n",
    "    svc = LinearSVC(penalty='l1', dual = False)\n",
    "    classifier = GridSearchCV(OneVsRestClassifier(svc, n_jobs=-1), params, cv=10)\n",
    "    classifier.fit(trainDataLinearOvR, trainLabelLinearOvR)\n",
    "    print(\"Best Weight of SVM penalty = \", classifier.best_params_['estimator__C'])\n",
    "    return classifier,classifier.best_params_['estimator__C']"
   ]
  },
  {
   "cell_type": "code",
   "execution_count": 60,
   "metadata": {},
   "outputs": [
    {
     "name": "stdout",
     "output_type": "stream",
     "text": [
      "Family\n",
      "Best Weight of SVM penalty =  1000\n",
      "Genus\n",
      "Best Weight of SVM penalty =  100\n",
      "Species\n",
      "Best Weight of SVM penalty =  100\n"
     ]
    }
   ],
   "source": [
    "svc_family, C_fam = OneVsRest_linear(norm_x_train, y_train['Family'],'Family')\n",
    "svc_genus, C_gen = OneVsRest_linear(norm_x_train, y_train['Genus'],'Genus')\n",
    "svc_species, C_spe= OneVsRest_linear(norm_x_train, y_train['Species'],'Species') "
   ]
  },
  {
   "cell_type": "code",
   "execution_count": 61,
   "metadata": {},
   "outputs": [],
   "source": [
    "#Classification using L1 penalty in SVM\n",
    "def svm_l1_best(norm_x_train, y_train, C, norm_x_test):\n",
    "    svm = LinearSVC(penalty='l1', dual=False, C=C)\n",
    "    svm.fit(norm_x_train, y_train)   \n",
    "    y_predict = svm.predict(norm_x_test)\n",
    "    return y_predict"
   ]
  },
  {
   "cell_type": "code",
   "execution_count": 62,
   "metadata": {},
   "outputs": [],
   "source": [
    "# Family\n",
    "y_p_fam_l1 = svm_l1_best(norm_x_train, y_train['Family'], C_fam, norm_x_test)\n",
    "y_p_fam_l1 = pa.DataFrame(y_p_fam_l1)\n",
    "# Genus\n",
    "y_p_gen_l1 = svm_l1_best(norm_x_train, y_train['Genus'], C_gen, norm_x_test)\n",
    "y_p_gen_l1 = pa.DataFrame(y_p_gen_l1)\n",
    "# Species\n",
    "y_p_spe_l1 = svm_l1_best(norm_x_train, y_train['Species'], C_spe, norm_x_test)\n",
    "y_p_spe_l1 = pa.DataFrame(y_p_spe_l1)\n",
    "# combine\n",
    "y_predict_l1 = pa.concat([y_p_fam_l1, y_p_gen_l1, y_p_spe_l1], axis=1, sort=False)"
   ]
  },
  {
   "cell_type": "code",
   "execution_count": 64,
   "metadata": {},
   "outputs": [
    {
     "name": "stdout",
     "output_type": "stream",
     "text": [
      "Hamming loss for Gaussian Kernel:  0.04662652462559824\n",
      "Exact Match Score for Gaussian Kernel:  0.9231125521074571\n"
     ]
    }
   ],
   "source": [
    "#Hamming loss and Exact score for linear SVM\n",
    "hammingloss_svm_l1 = hammingLoss(y_predict_l1, y_test)\n",
    "print('Hamming loss for Gaussian Kernel: ', hammingloss_svm_l1)       \n",
    "exactscore_svm_l1 = exactMatch(y_predict_l1, y_test)\n",
    "print('Exact Match Score for Gaussian Kernel: ', exactscore_svm_l1)"
   ]
  },
  {
   "cell_type": "code",
   "execution_count": 65,
   "metadata": {},
   "outputs": [],
   "source": [
    "#Using SMOTE and SVM\n",
    "sm = SMOTE(random_state=42)\n",
    "trainDataSMOTE_family, trainLabelSMOTE_family = sm.fit_sample(norm_x_train, y_train[\"Family\"])\n",
    "trainDataSMOTE_genus, trainLabelSMOTE_genus = sm.fit_sample(norm_x_train, y_train[\"Genus\"])\n",
    "trainDataSMOTE_species, trainLabelSMOTE_species = sm.fit_sample(norm_x_train, y_train[\"Species\"])"
   ]
  },
  {
   "cell_type": "code",
   "execution_count": 66,
   "metadata": {},
   "outputs": [
    {
     "name": "stdout",
     "output_type": "stream",
     "text": [
      "Family\n",
      "Best Weight of SVM penalty =  1000\n",
      "Genus\n",
      "Best Weight of SVM penalty =  100\n",
      "Species\n",
      "Best Weight of SVM penalty =  10\n"
     ]
    }
   ],
   "source": [
    "res_family, C_res_fam = OneVsRest_linear(trainDataSMOTE_family, trainLabelSMOTE_family, \"Family\")\n",
    "res_genus, C_res_gen = OneVsRest_linear(trainDataSMOTE_genus, trainLabelSMOTE_genus, \"Genus\")\n",
    "res_species, C_res_spe = OneVsRest_linear(trainDataSMOTE_species, trainLabelSMOTE_species, \"Species\")"
   ]
  },
  {
   "cell_type": "code",
   "execution_count": 67,
   "metadata": {},
   "outputs": [],
   "source": [
    "#Using the best parameter in SMOTE with SVM\n",
    "def res_SVM_best(norm_x_train, y_train, C_, norm_x_test):\n",
    "    sm = SMOTE(random_state=42)\n",
    "    X_res, y_res = sm.fit_sample(norm_x_train, y_train)   \n",
    "    svm = LinearSVC(penalty='l1', dual=False, C=C_)\n",
    "    svm.fit(norm_x_train, y_train)   \n",
    "    y_predict = svm.predict(X_test)\n",
    "    return y_predict"
   ]
  },
  {
   "cell_type": "code",
   "execution_count": 69,
   "metadata": {},
   "outputs": [],
   "source": [
    "# Family\n",
    "y_p_fam_l1_rs = res_SVM_best(norm_x_train, y_train['Family'], C_res_fam, norm_x_test)\n",
    "y_p_fam_l1_rs = pa.DataFrame(y_p_fam_l1_rs)\n",
    "# Genus\n",
    "y_p_gen_l1_rs = res_SVM_best(norm_x_train, y_train['Genus'], C_res_gen, norm_x_test)\n",
    "y_p_gen_l1_rs = pa.DataFrame(y_p_gen_l1_rs)\n",
    "# Species\n",
    "y_p_spe_l1_rs = res_SVM_best(norm_x_train, y_train['Species'], C_res_spe, norm_x_test)\n",
    "y_p_spe_l1_rs = pa.DataFrame(y_p_spe_l1_rs)\n",
    "# combine\n",
    "y_predict_l1_rs = pa.concat([y_p_fam_l1_rs, y_p_gen_l1_rs, y_p_spe_l1_rs], axis=1, sort=False)"
   ]
  },
  {
   "cell_type": "code",
   "execution_count": 71,
   "metadata": {},
   "outputs": [
    {
     "name": "stdout",
     "output_type": "stream",
     "text": [
      "Hamming loss for Gaussian Kernel:  0.20518758684576135\n",
      "Exact Match Score for Gaussian Kernel:  0.6586382584529875\n"
     ]
    }
   ],
   "source": [
    "#Hamming loss and Exact score for SMOTE with SVM\n",
    "hammingloss_rs = hammingLoss(y_predict_l1_rs, y_test)\n",
    "print('Hamming loss for Gaussian Kernel: ', hammingloss_rs)       \n",
    "exactscore_rs = exactMatch(y_predict_l1_rs, y_test)\n",
    "print('Exact Match Score for Gaussian Kernel: ', exactscore_rs)"
   ]
  },
  {
   "cell_type": "code",
   "execution_count": 72,
   "metadata": {},
   "outputs": [
    {
     "data": {
      "text/html": [
       "<div>\n",
       "<style scoped>\n",
       "    .dataframe tbody tr th:only-of-type {\n",
       "        vertical-align: middle;\n",
       "    }\n",
       "\n",
       "    .dataframe tbody tr th {\n",
       "        vertical-align: top;\n",
       "    }\n",
       "\n",
       "    .dataframe thead th {\n",
       "        text-align: right;\n",
       "    }\n",
       "</style>\n",
       "<table border=\"1\" class=\"dataframe\">\n",
       "  <thead>\n",
       "    <tr style=\"text-align: right;\">\n",
       "      <th></th>\n",
       "      <th>Hamming Loss</th>\n",
       "      <th>Exact Match Score</th>\n",
       "    </tr>\n",
       "  </thead>\n",
       "  <tbody>\n",
       "    <tr>\n",
       "      <th>Gaussian</th>\n",
       "      <td>0.007565</td>\n",
       "      <td>0.987494</td>\n",
       "    </tr>\n",
       "    <tr>\n",
       "      <th>l1 penalty</th>\n",
       "      <td>0.046627</td>\n",
       "      <td>0.923113</td>\n",
       "    </tr>\n",
       "    <tr>\n",
       "      <th>resampled l1</th>\n",
       "      <td>0.205188</td>\n",
       "      <td>0.658638</td>\n",
       "    </tr>\n",
       "  </tbody>\n",
       "</table>\n",
       "</div>"
      ],
      "text/plain": [
       "              Hamming Loss  Exact Match Score\n",
       "Gaussian          0.007565           0.987494\n",
       "l1 penalty        0.046627           0.923113\n",
       "resampled l1      0.205188           0.658638"
      ]
     },
     "execution_count": 72,
     "metadata": {},
     "output_type": "execute_result"
    }
   ],
   "source": [
    "score_report = pa.DataFrame()\n",
    "score_report['Hamming Loss'] = [hammingloss_gauss, hammingloss_svm_l1, hammingloss_rs]\n",
    "score_report['Exact Match Score'] = [exactscore_gauss, exactscore_svm_l1, exactscore_rs]\n",
    "score_report.index = ['Gaussian', \"l1 penalty\", 'resampled l1']\n",
    "score_report"
   ]
  },
  {
   "cell_type": "code",
   "execution_count": 74,
   "metadata": {},
   "outputs": [
    {
     "data": {
      "text/plain": [
       "'We can observe from the above table that the Hamming loss and Exact match loss of \\nSMOTE with SVM is less compare to other classifications we implemented. \\nThis proves that data was imbalanced and using SMOTE was useful in classification.'"
      ]
     },
     "execution_count": 74,
     "metadata": {},
     "output_type": "execute_result"
    }
   ],
   "source": [
    "'''We can observe from the above table that the Hamming loss and Exact match loss of \n",
    "SMOTE with SVM is less compare to other classifications we implemented. \n",
    "This proves that data was imbalanced and using SMOTE was useful in classification.'''"
   ]
  },
  {
   "cell_type": "code",
   "execution_count": null,
   "metadata": {},
   "outputs": [],
   "source": []
  }
 ],
 "metadata": {
  "kernelspec": {
   "display_name": "Python 3",
   "language": "python",
   "name": "python3"
  },
  "language_info": {
   "codemirror_mode": {
    "name": "ipython",
    "version": 3
   },
   "file_extension": ".py",
   "mimetype": "text/x-python",
   "name": "python",
   "nbconvert_exporter": "python",
   "pygments_lexer": "ipython3",
   "version": "3.7.3"
  }
 },
 "nbformat": 4,
 "nbformat_minor": 2
}
